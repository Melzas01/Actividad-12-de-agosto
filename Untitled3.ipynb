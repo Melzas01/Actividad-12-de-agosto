{
  "nbformat": 4,
  "nbformat_minor": 0,
  "metadata": {
    "colab": {
      "name": "Untitled3.ipynb",
      "provenance": []
    },
    "kernelspec": {
      "name": "python3",
      "display_name": "Python 3"
    },
    "language_info": {
      "name": "python"
    }
  },
  "cells": [
    {
      "cell_type": "markdown",
      "source": [
        "#Primer Ejercicio \n",
        "1.\tEscriba un programa que solicite dos números enteros y calcule su división. El programa debe definir si la división es exacta o no. Si no es exacta, debe imprimir cuál es su residuo. ¿Qué debería imprimir el programa si la división es entre cero?\n",
        "\n"
      ],
      "metadata": {
        "id": "YUjYh-vvwMqu"
      }
    },
    {
      "cell_type": "code",
      "source": [
        "print(\"Digita dos números enteros si quieres saber el resultado de su división\")\n",
        "\n",
        "a=int(input(\"Primer número \"))\n",
        "b=int(input(\"Segundo número \"))\n",
        "\n",
        "if b == 0:\n",
        "  print(f\"Todo número dividido entre 0 es indeterminado\")\n",
        "\n",
        "else: \n",
        "  c=a/b\n",
        "  d= a%b\n",
        "  \n",
        "  if c % 2 == 0:\n",
        "    print(f\"El resultado de la operación es: {c}\")\n",
        "  \n",
        "  else:\n",
        "    print(f\"La división es inexacta. El residuo de la operación es: {d}\")\n"
      ],
      "metadata": {
        "colab": {
          "base_uri": "https://localhost:8080/"
        },
        "id": "uWBqbnXCwgTF",
        "outputId": "8b4ccbf2-8d9a-4eac-ab5c-7c6340651a1a"
      },
      "execution_count": 24,
      "outputs": [
        {
          "output_type": "stream",
          "name": "stdout",
          "text": [
            "Digita dos números enteros si quieres saber el resultado de su división\n",
            "Primer número 10\n",
            "Segundo número 5\n",
            "El resultado de la operación es: 2.0\n"
          ]
        }
      ]
    },
    {
      "cell_type": "markdown",
      "source": [
        "#Segundo Ejercicio \n",
        "2.\tEscriba un programa que pida dos números e indique si uno es múltiplo del otro."
      ],
      "metadata": {
        "id": "g6bsoQIM4R2p"
      }
    },
    {
      "cell_type": "code",
      "source": [
        "print(\"Digita dos números y comprueba si uno es múltiplo del otro\")\n",
        "\n",
        "x=int(input(\"Primer número: \"))\n",
        "y=int(input(\"Segundo número: \"))\n",
        "\n",
        "if y>x:\n",
        "  print(f\"{x} no es múltiplo de {y}\")\n",
        "\n",
        "else:\n",
        "  z=x%y\n",
        "  \n",
        "  if z == 0:\n",
        "    print(f\"{x} es múltiplo de {y}\")"
      ],
      "metadata": {
        "colab": {
          "base_uri": "https://localhost:8080/"
        },
        "id": "AqaY4FDs5RfI",
        "outputId": "d1bc74c8-6d68-4779-eac4-94e0eb095f51"
      },
      "execution_count": 31,
      "outputs": [
        {
          "output_type": "stream",
          "name": "stdout",
          "text": [
            "Digita dos números y comprueba si uno es múltiplo del otro\n",
            "Primer número: 50\n",
            "Segundo número: 5\n",
            "50 es múltiplo de 5\n"
          ]
        }
      ]
    },
    {
      "cell_type": "markdown",
      "source": [
        "#Tercer Ejercicio \n",
        "3.\tEscriba un programa que ordene, de menor a mayor, las edades de tres hermanos. ¿Qué pasaría si son gemelos? ¿Qué pasaría si son trillizos?"
      ],
      "metadata": {
        "id": "IeeY7vPq7H2S"
      }
    },
    {
      "cell_type": "code",
      "source": [
        "print(\"Dame tu nombre y edad y la de tus hermanos y te diré en qué orden nacieron.\")\n",
        "\n",
        "nom1=input(\"Nombre: \")\n",
        "e1=int(input(\"Edad: \"))\n",
        "\n",
        "nom2=input(\"Nombre: \")\n",
        "e2=int(input(\"Edad: \"))\n",
        "\n",
        "nom3=input(\"Nombre: \")\n",
        "e3=int(input(\"Edad: \"))\n",
        "\n",
        "if e1==e2 & e1==e2>e3:\n",
        "  print(f\"{nom1} y {nom2} probablemente son gemelos.\")\n",
        "  print(f\"Y {nom3} es el hermano menor.\")\n",
        "\n",
        "elif e1==e2 & e1==e2<e3:\n",
        "  print(f\"{nom1} y {nom2} probablemente son gemelos.\")\n",
        "  print(f\"Y {nom3} es el hermano mayor.\")\n",
        "\n",
        "\n",
        "if e2==e3 & e2==e3>e1:\n",
        "  print(f\"{nom2} y {nom3} probablemente son gemelos.\")\n",
        "  print(f\"Y {nom1} es el hermano menor.\")\n",
        "\n",
        "elif e2==e3 & e2==e3<e1:\n",
        "  print(f\"{nom2} y {nom3} probablemente son gemelos.\")\n",
        "  print(f\"Y {nom1} es el hermano mayor.\")\n",
        "\n",
        "if e1==e3 & e1==e3>e2:\n",
        "  print(f\"{nom1} y {nom3} probablemente son gemelos.\")\n",
        "  print(f\"Y {nom2} es el hermano menor.\")\n",
        "\n",
        "elif e1==e3 & e1==e3<e2:\n",
        "  print(f\"{nom1} y {nom3} probablemente son gemelos.\")\n",
        "  print(f\"Y {nom2} es el hermano mayor.\")\n",
        "\n",
        "if e1==e2==e3:\n",
        "  print(f\"{nom1}, {nom2} y {nom3} son trillizos.\")\n",
        "\n",
        "\n",
        "if e1>e2 & e1>e3:\n",
        "  print(f\"{nom1} es el hermano mayor.\")\n",
        "    \n",
        "  if e2>e3:\n",
        "    print(f\"{nom2} es el hermano del medio.\")\n",
        "    print(f\"{nom3} es el hermano menor.\")\n",
        "    \n",
        "  else:\n",
        "    print(f\"{nom3} es el hermano del medio.\")\n",
        "    print(f\"{nom2} es el hermano menor.\")\n",
        "\n",
        "if e2>e1 & e2>e3:\n",
        "  print(f\"{nom2} es el hermano mayor\")\n",
        "\n",
        "  if e1>e3:\n",
        "    print(f\"{nom1} es el hermano del medio.\")\n",
        "    print(f\"{nom3} es el hermano menor.\")\n",
        "  \n",
        "  else: \n",
        "    print(f\"{nom3} es el hermano del medio.\")\n",
        "    print(f\"{nom1} es el hermano menor.\")\n",
        "\n",
        "if e3>e1 & e3>e2:\n",
        "  print(f\"{nom3} es el hermano mayor.\")\n",
        "\n",
        "  if e1>e2:\n",
        "    print(f\"{nom1} es el hermano del medio.\")\n",
        "    print(f\"{nom2} es el hermano menor.\")\n",
        "    \n",
        "  else: \n",
        "    print(f\"{nom2} es el hermano del medio.\")\n",
        "    print(f\"{nom1} es el hermano menor.\")\n",
        "\n",
        "\n",
        "  \n"
      ],
      "metadata": {
        "colab": {
          "base_uri": "https://localhost:8080/"
        },
        "id": "jpPQIOKG7KYi",
        "outputId": "a3becf65-3e4b-4202-f784-10e8cc54892d"
      },
      "execution_count": 53,
      "outputs": [
        {
          "output_type": "stream",
          "name": "stdout",
          "text": [
            "Dame tu nombre y edad y la de tus hermanos y te diré en qué orden nacieron.\n",
            "Nombre: Melanie\n",
            "Edad: 15\n",
            "Nombre: Checo\n",
            "Edad: 11\n",
            "Nombre: Junior\n",
            "Edad: 45\n",
            "Junior es el hermano mayor.\n",
            "Melanie es el hermano del medio.\n",
            "Checo es el hermano menor.\n"
          ]
        }
      ]
    },
    {
      "cell_type": "markdown",
      "source": [
        ""
      ],
      "metadata": {
        "id": "TIFWp-AAHeIA"
      }
    }
  ]
}